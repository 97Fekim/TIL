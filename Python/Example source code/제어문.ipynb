{
 "cells": [
  {
   "cell_type": "code",
   "execution_count": 10,
   "id": "15ad4548",
   "metadata": {},
   "outputs": [],
   "source": [
    "money = False"
   ]
  },
  {
   "cell_type": "code",
   "execution_count": 8,
   "id": "b7677279",
   "metadata": {},
   "outputs": [],
   "source": [
    "money = True"
   ]
  },
  {
   "cell_type": "code",
   "execution_count": 30,
   "id": "70b18318",
   "metadata": {},
   "outputs": [
    {
     "data": {
      "text/plain": [
       "True"
      ]
     },
     "execution_count": 30,
     "metadata": {},
     "output_type": "execute_result"
    }
   ],
   "source": [
    "money = not money\n",
    "money"
   ]
  },
  {
   "cell_type": "code",
   "execution_count": 31,
   "id": "32dae5bd",
   "metadata": {},
   "outputs": [
    {
     "name": "stdout",
     "output_type": "stream",
     "text": [
      "택시를 타고 가라\n"
     ]
    }
   ],
   "source": [
    "if money:\n",
    "    print(\"택시를 타고 가라\")\n",
    "else:\n",
    "    print(\"걸어가라\")"
   ]
  },
  {
   "cell_type": "code",
   "execution_count": 11,
   "id": "073752bd",
   "metadata": {},
   "outputs": [
    {
     "data": {
      "text/plain": [
       "True"
      ]
     },
     "execution_count": 11,
     "metadata": {},
     "output_type": "execute_result"
    }
   ],
   "source": [
    "not money"
   ]
  },
  {
   "cell_type": "code",
   "execution_count": 32,
   "id": "a4a0b30c",
   "metadata": {},
   "outputs": [],
   "source": [
    "taxiFree = 80"
   ]
  },
  {
   "cell_type": "code",
   "execution_count": 37,
   "id": "ea586ade",
   "metadata": {},
   "outputs": [
    {
     "name": "stdout",
     "output_type": "stream",
     "text": [
      "걸어가라\n"
     ]
    }
   ],
   "source": [
    "if taxiFree%3==0:\n",
    "    print(\"택시를 타고 가라\")\n",
    "else:\n",
    "    print(\"걸어가라\")"
   ]
  },
  {
   "cell_type": "code",
   "execution_count": 42,
   "id": "a08a959e",
   "metadata": {},
   "outputs": [
    {
     "data": {
      "text/plain": [
       "False"
      ]
     },
     "execution_count": 42,
     "metadata": {},
     "output_type": "execute_result"
    }
   ],
   "source": [
    "taxiFree == 89"
   ]
  },
  {
   "cell_type": "code",
   "execution_count": 43,
   "id": "3da7c9bf",
   "metadata": {},
   "outputs": [
    {
     "data": {
      "text/plain": [
       "True"
      ]
     },
     "execution_count": 43,
     "metadata": {},
     "output_type": "execute_result"
    }
   ],
   "source": [
    "taxiFree != 89"
   ]
  },
  {
   "cell_type": "markdown",
   "id": "9fe2f9bd",
   "metadata": {},
   "source": [
    "<table>\n",
    "    <tr>  <th>연산자</th>   <th>설명</th>   <tr>\n",
    "    <tr> <td> x or y </td> <td>x와 y 둘중에 하나만 참이어도 참이다.</td> </tr>\n",
    "    <tr> <td> x and y </td> <td>x와 y 둘다 참이어야 참이다.</td>   </tr>\n",
    "    <tr>  <td> x xor y </td> <td>x와 y가 서로 달라야 참이다.\n",
    "        <i>xor (eXclusive Or)</i>  </td>\n",
    "    </tr>\n",
    "    \n",
    "</table>"
   ]
  },
  {
   "cell_type": "code",
   "execution_count": 91,
   "id": "b0acae4f",
   "metadata": {},
   "outputs": [],
   "source": [
    "money = 9000\n",
    "card = True"
   ]
  },
  {
   "cell_type": "code",
   "execution_count": 84,
   "id": "00ed762e",
   "metadata": {},
   "outputs": [
    {
     "name": "stdout",
     "output_type": "stream",
     "text": [
      "택시를 타고간다\n"
     ]
    }
   ],
   "source": [
    "if money >= 3000 and card:\n",
    "    print(\"택시를 타고간다\")\n",
    "else:\n",
    "    print(\"걸어간다\")"
   ]
  },
  {
   "cell_type": "code",
   "execution_count": 93,
   "id": "f9fa1055",
   "metadata": {},
   "outputs": [
    {
     "name": "stdout",
     "output_type": "stream",
     "text": [
      "비행기를 타고 간다\n"
     ]
    }
   ],
   "source": [
    "if money > 7000:\n",
    "    print(\"비행기를 타고 간다\")\n",
    "elif money > 5000: \n",
    "    print(\"택시를 타고 간다\")\n",
    "else:\n",
    "    print(\"걸아간다\")"
   ]
  },
  {
   "cell_type": "code",
   "execution_count": 3,
   "id": "6d5d382d",
   "metadata": {},
   "outputs": [
    {
     "name": "stdout",
     "output_type": "stream",
     "text": [
      "수입니다.\n"
     ]
    }
   ],
   "source": [
    "score = 95\n",
    "\n",
    "if score >= 90:\n",
    "    print(\"수입니다.\")\n",
    "elif score >= 80:\n",
    "    print(\"우입니다.\")\n",
    "elif score >= 70:\n",
    "    print(\"미입니다.\")\n",
    "elif score >= 60:\n",
    "    print(\"양입니다.\")\n",
    "else:\n",
    "    print(\"가입니다.\")"
   ]
  },
  {
   "cell_type": "code",
   "execution_count": 5,
   "id": "3b21bf48",
   "metadata": {},
   "outputs": [],
   "source": [
    "math = 70\n",
    "eng = 50\n",
    "korea = 98"
   ]
  },
  {
   "cell_type": "code",
   "execution_count": 6,
   "id": "4341021a",
   "metadata": {},
   "outputs": [
    {
     "data": {
      "text/plain": [
       "218"
      ]
     },
     "execution_count": 6,
     "metadata": {},
     "output_type": "execute_result"
    }
   ],
   "source": [
    "total = math + eng + korea\n",
    "total"
   ]
  },
  {
   "cell_type": "code",
   "execution_count": 8,
   "id": "13944c24",
   "metadata": {},
   "outputs": [
    {
     "data": {
      "text/plain": [
       "72.66666666666667"
      ]
     },
     "execution_count": 8,
     "metadata": {},
     "output_type": "execute_result"
    }
   ],
   "source": [
    "gradt = \"\"\n",
    "avg = total / 3.0\n",
    "avg"
   ]
  },
  {
   "cell_type": "code",
   "execution_count": 12,
   "id": "1cd69f23",
   "metadata": {},
   "outputs": [
    {
     "data": {
      "text/plain": [
       "'미'"
      ]
     },
     "execution_count": 12,
     "metadata": {},
     "output_type": "execute_result"
    }
   ],
   "source": [
    "if avg >= 90:\n",
    "    grade = \"수\"\n",
    "elif avg >= 80:\n",
    "    grade = \"우\"\n",
    "elif avg >= 70:\n",
    "    grade = \"미\"\n",
    "elif avg >= 60:\n",
    "    grade = \"양\"\n",
    "else:\n",
    "    grade = \"가\"\n",
    "    \n",
    "grade"
   ]
  },
  {
   "cell_type": "code",
   "execution_count": 13,
   "id": "be6ff501",
   "metadata": {},
   "outputs": [],
   "source": [
    "math = 70\n",
    "eng = 50"
   ]
  },
  {
   "cell_type": "markdown",
   "id": "be9f91e3",
   "metadata": {},
   "source": [
    "<ul>\n",
    "    <li> 데이터가 작다 기본자료형(정수(int), 실수형(float,double), 논리형(boolean)) \n",
    "</li>\n",
    "    <ul>\n",
    "        <li> <b>데이터가 무지 크다, 점을 찍는다.(멤버가 있다) </b> => 참조자료형 -> 사용자 정의 클래스 </li> \n",
    "        <li> <b>맨 앞글자가 대문자</b> => 참조자료형 -> 라이브러리 클래스 </li> \n",
    "    </ul>\n",
    "</ul>"
   ]
  },
  {
   "cell_type": "code",
   "execution_count": 14,
   "id": "5a4aa597",
   "metadata": {},
   "outputs": [
    {
     "data": {
      "text/plain": [
       "True"
      ]
     },
     "execution_count": 14,
     "metadata": {},
     "output_type": "execute_result"
    }
   ],
   "source": [
    "1 in [1,2,3] # 1이 리스트 안에 포함되면 True"
   ]
  },
  {
   "cell_type": "code",
   "execution_count": 16,
   "id": "7b952e5f",
   "metadata": {},
   "outputs": [
    {
     "data": {
      "text/plain": [
       "False"
      ]
     },
     "execution_count": 16,
     "metadata": {},
     "output_type": "execute_result"
    }
   ],
   "source": [
    "5 in [1,2,3] # 5가 리스트 안에 포함되면 True"
   ]
  },
  {
   "cell_type": "code",
   "execution_count": 17,
   "id": "3a1ff492",
   "metadata": {
    "scrolled": true
   },
   "outputs": [
    {
     "data": {
      "text/plain": [
       "True"
      ]
     },
     "execution_count": 17,
     "metadata": {},
     "output_type": "execute_result"
    }
   ],
   "source": [
    "2 in (1,2,3) # 2가 튜플 안에 포함되면 True"
   ]
  },
  {
   "cell_type": "code",
   "execution_count": 20,
   "id": "08658ba6",
   "metadata": {},
   "outputs": [],
   "source": [
    "pocket = ['paper', 'money', 'cellphone']\n",
    "if 'money' in pocket:\n",
    "    pass # 아무것도 하지 않을 경우 pass를 추가해야 함\n",
    "else:\n",
    "    print(\"카드를 꺼내라\")"
   ]
  },
  {
   "cell_type": "code",
   "execution_count": 21,
   "id": "7682befe",
   "metadata": {},
   "outputs": [],
   "source": [
    "def f():\n",
    "    print(\"사랑\")"
   ]
  },
  {
   "cell_type": "code",
   "execution_count": 23,
   "id": "999dd736",
   "metadata": {},
   "outputs": [
    {
     "name": "stdout",
     "output_type": "stream",
     "text": [
      "사랑\n"
     ]
    }
   ],
   "source": [
    "f() # 함수 호출(call)"
   ]
  },
  {
   "cell_type": "code",
   "execution_count": 27,
   "id": "afb9dc0e",
   "metadata": {},
   "outputs": [
    {
     "name": "stdout",
     "output_type": "stream",
     "text": [
      "사랑99\n"
     ]
    }
   ],
   "source": [
    "def f(i):\n",
    "    print(\"사랑\" + str(i))\n",
    "f(99)"
   ]
  },
  {
   "cell_type": "code",
   "execution_count": 29,
   "id": "1a551e15",
   "metadata": {},
   "outputs": [
    {
     "data": {
      "text/plain": [
       "25"
      ]
     },
     "execution_count": 29,
     "metadata": {},
     "output_type": "execute_result"
    }
   ],
   "source": [
    "def ff(i):\n",
    "    return i * 5\n",
    "res = ff(5)\n",
    "res"
   ]
  },
  {
   "cell_type": "code",
   "execution_count": 30,
   "id": "8c90a995",
   "metadata": {
    "scrolled": true
   },
   "outputs": [
    {
     "data": {
      "text/plain": [
       "9"
      ]
     },
     "execution_count": 30,
     "metadata": {},
     "output_type": "execute_result"
    }
   ],
   "source": [
    "def g(i,j):\n",
    "    return i + j\n",
    "g(4,5)"
   ]
  },
  {
   "cell_type": "code",
   "execution_count": 35,
   "id": "5c393b92",
   "metadata": {},
   "outputs": [
    {
     "data": {
      "text/plain": [
       "'우'"
      ]
     },
     "execution_count": 35,
     "metadata": {},
     "output_type": "execute_result"
    }
   ],
   "source": [
    "def calcGrade(math, eng, korea):\n",
    "    total = math + eng + korea\n",
    "    grade = \"\"\n",
    "    avg = total / 3\n",
    "    if avg > 90:\n",
    "        grade = \"수\"\n",
    "    elif avg >= 80:\n",
    "        grade = \"우\"\n",
    "    elif avg >= 70:\n",
    "        grade = \"미\"\n",
    "    elif avg >= 60:\n",
    "        grade = \"양\"\n",
    "    else:\n",
    "        grade = \"가\"\n",
    "    return grade\n",
    "\n",
    "gradeRes = calcGrade(78,89,99)\n",
    "gradeRes\n",
    "        "
   ]
  },
  {
   "cell_type": "code",
   "execution_count": 44,
   "id": "07ff91e3",
   "metadata": {
    "scrolled": true
   },
   "outputs": [
    {
     "data": {
      "text/plain": [
       "'합격'"
      ]
     },
     "execution_count": 44,
     "metadata": {},
     "output_type": "execute_result"
    }
   ],
   "source": [
    "def getGrade(math, eng, korea, cnt, threshold):\n",
    "    total = math + eng + korea\n",
    "    avg = total / cnt\n",
    "    resultGet = \"\"\n",
    "    if avg > threshold:\n",
    "        resultGet = \"합격\"\n",
    "    else:\n",
    "        resultGet = \"불합격\"\n",
    "    return resultGet    \n",
    "        \n",
    "result = getGrade(100,50,80,3,70)\n",
    "result"
   ]
  }
 ],
 "metadata": {
  "kernelspec": {
   "display_name": "Python 3 (ipykernel)",
   "language": "python",
   "name": "python3"
  },
  "language_info": {
   "codemirror_mode": {
    "name": "ipython",
    "version": 3
   },
   "file_extension": ".py",
   "mimetype": "text/x-python",
   "name": "python",
   "nbconvert_exporter": "python",
   "pygments_lexer": "ipython3",
   "version": "3.9.7"
  }
 },
 "nbformat": 4,
 "nbformat_minor": 5
}
