{
 "cells": [
  {
   "cell_type": "code",
   "execution_count": 17,
   "id": "eda376b3",
   "metadata": {},
   "outputs": [],
   "source": [
    "coffee = 3"
   ]
  },
  {
   "cell_type": "markdown",
   "id": "607321ed",
   "metadata": {},
   "source": [
    "## while 조건식이 true일 경우 while 문의 실행문 실행함"
   ]
  },
  {
   "cell_type": "code",
   "execution_count": 18,
   "id": "440d08c9",
   "metadata": {},
   "outputs": [],
   "source": [
    "#while coffee < 10:\n",
    "#    print(\"\")"
   ]
  },
  {
   "cell_type": "markdown",
   "id": "5a407d67",
   "metadata": {},
   "source": [
    "## while문을 이용하여 아래의 내용을 채우세요 <br>\n",
    "하루마다 키가 5센치미터씩 자랍니다. <br>\n",
    "키가 323cm 이상이면 그때의 키값을 한번만 출력하세요"
   ]
  },
  {
   "cell_type": "code",
   "execution_count": 81,
   "id": "10df833c",
   "metadata": {},
   "outputs": [],
   "source": [
    "height = 50\n",
    "height_sum = 0\n",
    "day = 0"
   ]
  },
  {
   "cell_type": "code",
   "execution_count": 80,
   "id": "7544e998",
   "metadata": {
    "scrolled": true
   },
   "outputs": [
    {
     "name": "stdout",
     "output_type": "stream",
     "text": [
      "heghit = 325\n",
      "day = 55\n",
      "height_sum = 10450\n"
     ]
    }
   ],
   "source": [
    "while(1):\n",
    "    if(height > 323):\n",
    "        print(\"heghit = %d\" %height)\n",
    "        print(\"day = %d\" %day)\n",
    "        print(\"height_sum = %d\" %height_sum)\n",
    "        break\n",
    "    height = height + 5\n",
    "    height_sum = height_sum + height\n",
    "    day = day + 1"
   ]
  },
  {
   "cell_type": "markdown",
   "id": "cd22d2fc",
   "metadata": {},
   "source": [
    "## 문제4) 격일로의 총 키의 누적합을 구하세요"
   ]
  },
  {
   "cell_type": "code",
   "execution_count": 83,
   "id": "8560cef8",
   "metadata": {},
   "outputs": [
    {
     "name": "stdout",
     "output_type": "stream",
     "text": [
      "height = 325\n",
      "day = 55\n",
      "height_sum = 5130\n"
     ]
    }
   ],
   "source": [
    "while(1):\n",
    "    if(height > 323):\n",
    "        print(\"height = %d\" %height)\n",
    "        print(\"day = %d\" %day)\n",
    "        print(\"height_sum = %d\" %height_sum)\n",
    "        break\n",
    "    \n",
    "    day = day + 1\n",
    "    height = height + 5\n",
    "    \n",
    "    if(day%2 == 0):\n",
    "        height_sum = height_sum + height"
   ]
  },
  {
   "cell_type": "markdown",
   "id": "008a7c0c",
   "metadata": {},
   "source": [
    "반복문에서 break, 와 continue문을 구별하자<br>\n",
    "break를 만나면 반복문을 탈출하고 continue문을 만나면 아래 문장을 실행하지 않고 반복문의 처음으로 돌아감"
   ]
  },
  {
   "cell_type": "code",
   "execution_count": 87,
   "id": "70dcf924",
   "metadata": {},
   "outputs": [
    {
     "name": "stdout",
     "output_type": "stream",
     "text": [
      "1\n",
      "2\n",
      "3\n",
      "4\n"
     ]
    }
   ],
   "source": [
    "a = 0\n",
    "while a<30:\n",
    "    a = a + 1\n",
    "    if a%5 == 0:\n",
    "        break\n",
    "    print(a)"
   ]
  },
  {
   "cell_type": "markdown",
   "id": "77c0b4b7",
   "metadata": {},
   "source": [
    "<h2>자바에서는</h2>\n",
    "<h3>for문의 기본구조</h3>\n",
    "for (int i = 0; i < 10; ++i)<br>\n",
    "{\n",
    "    <ul>\n",
    "        <li>수행할 문장</li>\n",
    "        <li>수행할 문장</li>\n",
    "    </ul>\n",
    "}\n"
   ]
  },
  {
   "cell_type": "code",
   "execution_count": 91,
   "id": "a6fae456",
   "metadata": {},
   "outputs": [],
   "source": [
    "test_list = ['one', 'two', 'three']"
   ]
  },
  {
   "cell_type": "code",
   "execution_count": 92,
   "id": "9ed5b3dd",
   "metadata": {},
   "outputs": [
    {
     "name": "stdout",
     "output_type": "stream",
     "text": [
      "one\n",
      "two\n",
      "three\n"
     ]
    }
   ],
   "source": [
    "for i in test_list:\n",
    "    print(i)"
   ]
  },
  {
   "cell_type": "code",
   "execution_count": 97,
   "id": "9cc72605",
   "metadata": {},
   "outputs": [],
   "source": [
    "a = [(1,2),(3,4),(5,6)]"
   ]
  },
  {
   "cell_type": "code",
   "execution_count": 98,
   "id": "06bc1257",
   "metadata": {},
   "outputs": [
    {
     "name": "stdout",
     "output_type": "stream",
     "text": [
      "3\n",
      "7\n",
      "11\n"
     ]
    }
   ],
   "source": [
    "for (first, last) in a:\n",
    "    print(first + last)"
   ]
  },
  {
   "cell_type": "code",
   "execution_count": 99,
   "id": "f5bdb6dd",
   "metadata": {},
   "outputs": [],
   "source": [
    "z = [[1,2,],[3,4],[5,6]]"
   ]
  },
  {
   "cell_type": "code",
   "execution_count": 101,
   "id": "8fa17a4b",
   "metadata": {},
   "outputs": [
    {
     "name": "stdout",
     "output_type": "stream",
     "text": [
      "1\n",
      "2\n",
      "3\n",
      "4\n",
      "5\n",
      "6\n"
     ]
    }
   ],
   "source": [
    "for i in z:\n",
    "    for j in i:\n",
    "        print(j)"
   ]
  },
  {
   "cell_type": "code",
   "execution_count": 105,
   "id": "ba0d3640",
   "metadata": {},
   "outputs": [],
   "source": [
    "z1 = [[1,2,3],[4,5,6],[6,7,8]]"
   ]
  },
  {
   "cell_type": "code",
   "execution_count": 107,
   "id": "c60176e2",
   "metadata": {},
   "outputs": [
    {
     "name": "stdout",
     "output_type": "stream",
     "text": [
      "1\n",
      "4\n",
      "6\n"
     ]
    }
   ],
   "source": [
    "for [i,j,k] in z1:\n",
    "    print(i)"
   ]
  },
  {
   "cell_type": "code",
   "execution_count": 108,
   "id": "a8c22024",
   "metadata": {},
   "outputs": [
    {
     "data": {
      "text/plain": [
       "6"
      ]
     },
     "execution_count": 108,
     "metadata": {},
     "output_type": "execute_result"
    }
   ],
   "source": [
    "(a,b,c,d) = (2,3,4,6)\n",
    "d"
   ]
  },
  {
   "cell_type": "code",
   "execution_count": 113,
   "id": "ab0087a1",
   "metadata": {},
   "outputs": [
    {
     "name": "stdout",
     "output_type": "stream",
     "text": [
      "1\n",
      "2\n",
      "3\n",
      "4\n",
      "5\n",
      "6\n",
      "\n",
      "6\n"
     ]
    }
   ],
   "source": [
    "tt = [[1,2],[3,4],[5,6]]\n",
    "sum1 = 0\n",
    "for i in tt:\n",
    "    for j in i:\n",
    "        print(j)\n",
    "        sum1 = sum1 + j\n",
    "print()\n",
    "print(j)"
   ]
  },
  {
   "cell_type": "code",
   "execution_count": 122,
   "id": "43549917",
   "metadata": {},
   "outputs": [],
   "source": [
    "rr = [[[1,2,3],[4,5,6]],[[7,8,9],[11,12,23]]]"
   ]
  },
  {
   "cell_type": "code",
   "execution_count": 123,
   "id": "ce4df870",
   "metadata": {},
   "outputs": [],
   "source": [
    "sum2 = 0"
   ]
  },
  {
   "cell_type": "code",
   "execution_count": 124,
   "id": "2836f771",
   "metadata": {},
   "outputs": [
    {
     "name": "stdout",
     "output_type": "stream",
     "text": [
      "91\n"
     ]
    }
   ],
   "source": [
    "for i in rr:\n",
    "    for j in i:\n",
    "        for k in j:\n",
    "            sum2 = sum2 + k\n",
    "print(sum2)"
   ]
  },
  {
   "cell_type": "markdown",
   "id": "10638e52",
   "metadata": {},
   "source": [
    "## 총 5명의 학생이 시험을 보았는데, 시험 점수가 60점이 넘으면 합격이고 그렇지 않으면 불합격이다. 합격인지 불합격인지 결과를 보여주세요"
   ]
  },
  {
   "cell_type": "code",
   "execution_count": 127,
   "id": "ebf1dd66",
   "metadata": {},
   "outputs": [
    {
     "name": "stdout",
     "output_type": "stream",
     "text": [
      "1번 학생은 합격입니다\n",
      "2번 학생은 불합격입니다\n",
      "3번 학생은 합격입니다\n",
      "4번 학생은 합격입니다\n"
     ]
    }
   ],
   "source": [
    "marks = [90,25,67,80]\n",
    "number = 0\n",
    "for mark in marks:\n",
    "    number = number + 1\n",
    "    if mark >= 60:\n",
    "        print(\"%d번 학생은 합격입니다\" %number)\n",
    "    else:\n",
    "        print(\"%d번 학생은 불합격입니다\" %number)"
   ]
  },
  {
   "cell_type": "code",
   "execution_count": 130,
   "id": "7c69df97",
   "metadata": {},
   "outputs": [
    {
     "name": "stdout",
     "output_type": "stream",
     "text": [
      "1번 학생 축하합니다\n",
      "3번 학생 축하합니다\n",
      "4번 학생 축하합니다\n"
     ]
    }
   ],
   "source": [
    "marks = [90,25,67,80]\n",
    "number = 0\n",
    "for mark in marks:\n",
    "    number = number + 1\n",
    "    if mark <60:\n",
    "        continue\n",
    "        \n",
    "    print(\"%d번 학생 축하합니다\" %number)"
   ]
  },
  {
   "cell_type": "code",
   "execution_count": 131,
   "id": "f8185a50",
   "metadata": {},
   "outputs": [
    {
     "data": {
      "text/plain": [
       "range(0, 10)"
      ]
     },
     "execution_count": 131,
     "metadata": {},
     "output_type": "execute_result"
    }
   ],
   "source": [
    "a = range(10)\n",
    "a"
   ]
  },
  {
   "cell_type": "code",
   "execution_count": 132,
   "id": "72c7ecac",
   "metadata": {},
   "outputs": [],
   "source": [
    "for i in a:\n",
    "    pass"
   ]
  },
  {
   "cell_type": "code",
   "execution_count": 133,
   "id": "3b63db0e",
   "metadata": {},
   "outputs": [],
   "source": [
    "temp1 = [2,3,4,5,6,7,8,11,13,17]\n"
   ]
  },
  {
   "cell_type": "code",
   "execution_count": 137,
   "id": "685b9c87",
   "metadata": {},
   "outputs": [
    {
     "name": "stdout",
     "output_type": "stream",
     "text": [
      "2\n",
      "3\n",
      "4\n",
      "5\n",
      "6\n",
      "7\n",
      "8\n",
      "11\n",
      "13\n",
      "17\n"
     ]
    }
   ],
   "source": [
    "for i in range(10):\n",
    "    print(temp1[i])"
   ]
  },
  {
   "cell_type": "code",
   "execution_count": 138,
   "id": "1b0e7139",
   "metadata": {},
   "outputs": [],
   "source": [
    "for i in range(1,8):\n",
    "    pass"
   ]
  },
  {
   "cell_type": "code",
   "execution_count": 144,
   "id": "bc7df0cb",
   "metadata": {},
   "outputs": [
    {
     "name": "stdout",
     "output_type": "stream",
     "text": [
      "110\n"
     ]
    }
   ],
   "source": [
    "add = 0\n",
    "for i in range(1,111):\n",
    "    add = add + 1\n",
    "print(add)"
   ]
  },
  {
   "cell_type": "code",
   "execution_count": 145,
   "id": "712a9a35",
   "metadata": {},
   "outputs": [
    {
     "name": "stdout",
     "output_type": "stream",
     "text": [
      "1번 학생 축하합니다\n",
      "3번 학생 축하합니다\n",
      "4번 학생 축하합니다\n"
     ]
    }
   ],
   "source": [
    "for number in range(len(marks)):\n",
    "    if marks[number] < 60:\n",
    "        continue\n",
    "    print(\"%d번 학생 축하합니다\" %(number+1))    "
   ]
  },
  {
   "cell_type": "code",
   "execution_count": 146,
   "id": "e09c7723",
   "metadata": {},
   "outputs": [
    {
     "name": "stdout",
     "output_type": "stream",
     "text": [
      "2 4 6 8 10 12 14 16 18 \n",
      "3 6 9 12 15 18 21 24 27 \n",
      "4 8 12 16 20 24 28 32 36 \n",
      "5 10 15 20 25 30 35 40 45 \n",
      "6 12 18 24 30 36 42 48 54 \n",
      "7 14 21 28 35 42 49 56 63 \n",
      "8 16 24 32 40 48 56 64 72 \n",
      "9 18 27 36 45 54 63 72 81 \n"
     ]
    }
   ],
   "source": [
    "for i in range(2,10):\n",
    "    for j in range(1,10):\n",
    "        print(i*j, end=\" \")\n",
    "    print('')"
   ]
  },
  {
   "cell_type": "code",
   "execution_count": 148,
   "id": "df8ba924",
   "metadata": {},
   "outputs": [],
   "source": [
    "a = [1,2,3,4]\n",
    "result = []"
   ]
  },
  {
   "cell_type": "code",
   "execution_count": 149,
   "id": "e39770ee",
   "metadata": {},
   "outputs": [
    {
     "data": {
      "text/plain": [
       "[3, 6, 9, 12]"
      ]
     },
     "execution_count": 149,
     "metadata": {},
     "output_type": "execute_result"
    }
   ],
   "source": [
    "for num in a:\n",
    "    result.append(num*3)\n",
    "result"
   ]
  },
  {
   "cell_type": "code",
   "execution_count": 151,
   "id": "d1fd902e",
   "metadata": {},
   "outputs": [
    {
     "data": {
      "text/plain": [
       "[6, 12]"
      ]
     },
     "execution_count": 151,
     "metadata": {},
     "output_type": "execute_result"
    }
   ],
   "source": [
    "result = [i*3 for i in a if i%2==0]\n",
    "result"
   ]
  },
  {
   "cell_type": "code",
   "execution_count": 154,
   "id": "29f5f0f8",
   "metadata": {},
   "outputs": [
    {
     "data": {
      "text/plain": [
       "[330, 30, 180]"
      ]
     },
     "execution_count": 154,
     "metadata": {},
     "output_type": "execute_result"
    }
   ],
   "source": [
    "result2 = [2,4,5,11,14,22,33,19,3,18]\n",
    "result3 = [10*i for i in result2 if i%3==0]\n",
    "result3"
   ]
  },
  {
   "cell_type": "code",
   "execution_count": null,
   "id": "6bd752e8",
   "metadata": {},
   "outputs": [],
   "source": []
  }
 ],
 "metadata": {
  "kernelspec": {
   "display_name": "Python 3 (ipykernel)",
   "language": "python",
   "name": "python3"
  },
  "language_info": {
   "codemirror_mode": {
    "name": "ipython",
    "version": 3
   },
   "file_extension": ".py",
   "mimetype": "text/x-python",
   "name": "python",
   "nbconvert_exporter": "python",
   "pygments_lexer": "ipython3",
   "version": "3.9.7"
  }
 },
 "nbformat": 4,
 "nbformat_minor": 5
}
