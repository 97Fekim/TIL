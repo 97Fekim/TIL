{
 "cells": [
  {
   "cell_type": "code",
   "execution_count": 4,
   "id": "56957947",
   "metadata": {},
   "outputs": [],
   "source": [
    "import numpy as np"
   ]
  },
  {
   "cell_type": "code",
   "execution_count": 5,
   "id": "bd1c8c71",
   "metadata": {},
   "outputs": [],
   "source": [
    "list1 = [1,2,3,4]\n",
    "list2 = [2,4,6,8]"
   ]
  },
  {
   "cell_type": "code",
   "execution_count": 6,
   "id": "6fb8a040",
   "metadata": {},
   "outputs": [
    {
     "data": {
      "text/plain": [
       "[1, 2, 3, 4, 2, 4, 6, 8]"
      ]
     },
     "execution_count": 6,
     "metadata": {},
     "output_type": "execute_result"
    }
   ],
   "source": [
    "# numpy \n",
    "list1 + list2"
   ]
  },
  {
   "cell_type": "code",
   "execution_count": 7,
   "id": "6ad791c7",
   "metadata": {},
   "outputs": [
    {
     "data": {
      "text/plain": [
       "array([ 3,  6,  9, 12])"
      ]
     },
     "execution_count": 7,
     "metadata": {},
     "output_type": "execute_result"
    }
   ],
   "source": [
    "np.array(list1) + np.array(list2)"
   ]
  },
  {
   "cell_type": "code",
   "execution_count": null,
   "id": "a16a3185",
   "metadata": {},
   "outputs": [],
   "source": [
    "# 튜플 자료형"
   ]
  },
  {
   "cell_type": "code",
   "execution_count": 18,
   "id": "44299461",
   "metadata": {},
   "outputs": [
    {
     "data": {
      "text/plain": [
       "(1, 2, 'a', 'b')"
      ]
     },
     "execution_count": 18,
     "metadata": {},
     "output_type": "execute_result"
    }
   ],
   "source": [
    "t1 = (1,2,'a','b')\n",
    "t1"
   ]
  },
  {
   "cell_type": "code",
   "execution_count": 26,
   "id": "10dbb93f",
   "metadata": {},
   "outputs": [
    {
     "data": {
      "text/plain": [
       "tuple"
      ]
     },
     "execution_count": 26,
     "metadata": {},
     "output_type": "execute_result"
    }
   ],
   "source": [
    "type(t1)"
   ]
  },
  {
   "cell_type": "code",
   "execution_count": 27,
   "id": "4e25cc77",
   "metadata": {},
   "outputs": [
    {
     "data": {
      "text/plain": [
       "list"
      ]
     },
     "execution_count": 27,
     "metadata": {},
     "output_type": "execute_result"
    }
   ],
   "source": [
    "listp = [1,2,3,4,5]\n",
    "type(listp)"
   ]
  },
  {
   "cell_type": "code",
   "execution_count": 29,
   "id": "92e11ca1",
   "metadata": {},
   "outputs": [
    {
     "data": {
      "text/plain": [
       "[4, 0, 0, 0, 0]"
      ]
     },
     "execution_count": 29,
     "metadata": {},
     "output_type": "execute_result"
    }
   ],
   "source": [
    "list8 = [0,0,0,0,0]\n",
    "list8[0] = t1[0] + 3\n",
    "list8"
   ]
  },
  {
   "cell_type": "code",
   "execution_count": null,
   "id": "407dd0f2",
   "metadata": {},
   "outputs": [],
   "source": []
  },
  {
   "cell_type": "code",
   "execution_count": null,
   "id": "10f39797",
   "metadata": {},
   "outputs": [],
   "source": [
    "# 딕셔너리 자료형"
   ]
  },
  {
   "cell_type": "code",
   "execution_count": 33,
   "id": "a6d857a4",
   "metadata": {},
   "outputs": [
    {
     "data": {
      "text/plain": [
       "dict"
      ]
     },
     "execution_count": 33,
     "metadata": {},
     "output_type": "execute_result"
    }
   ],
   "source": [
    "dict2 = {'a':7, 'b':11, 'c':'사랑'}\n",
    "type(dict2)"
   ]
  },
  {
   "cell_type": "code",
   "execution_count": 37,
   "id": "f6535b59",
   "metadata": {},
   "outputs": [
    {
     "data": {
      "text/plain": [
       "'사랑'"
      ]
     },
     "execution_count": 37,
     "metadata": {},
     "output_type": "execute_result"
    }
   ],
   "source": [
    "dict2['c']"
   ]
  },
  {
   "cell_type": "code",
   "execution_count": 38,
   "id": "164b9f5a",
   "metadata": {},
   "outputs": [
    {
     "data": {
      "text/plain": [
       "{'a': 7, 'b': 11, 'c': '사랑', 'd': '믿음'}"
      ]
     },
     "execution_count": 38,
     "metadata": {},
     "output_type": "execute_result"
    }
   ],
   "source": [
    "dict2['d'] = '믿음'\n",
    "dict2"
   ]
  },
  {
   "cell_type": "code",
   "execution_count": 39,
   "id": "604a545f",
   "metadata": {},
   "outputs": [
    {
     "data": {
      "text/plain": [
       "{'a': 7, 'b': [2, 3, 4, 5], 'c': '사랑', 'd': '믿음'}"
      ]
     },
     "execution_count": 39,
     "metadata": {},
     "output_type": "execute_result"
    }
   ],
   "source": [
    "dict2['b'] = [2,3,4,5] # 딕셔너리에 key값이 있으면 그것으로 변경하고, 없으면 새로 추가한다.\n",
    "dict2"
   ]
  },
  {
   "cell_type": "code",
   "execution_count": 40,
   "id": "dd71ae35",
   "metadata": {},
   "outputs": [
    {
     "data": {
      "text/plain": [
       "{'믿음', '사랑', '증오'}"
      ]
     },
     "execution_count": 40,
     "metadata": {},
     "output_type": "execute_result"
    }
   ],
   "source": [
    "green = {'사랑', '믿음', '증오'}\n",
    "green"
   ]
  },
  {
   "cell_type": "code",
   "execution_count": 41,
   "id": "272ec025",
   "metadata": {},
   "outputs": [
    {
     "data": {
      "text/plain": [
       "set"
      ]
     },
     "execution_count": 41,
     "metadata": {},
     "output_type": "execute_result"
    }
   ],
   "source": [
    "type(green)"
   ]
  },
  {
   "cell_type": "code",
   "execution_count": 44,
   "id": "e758fa42",
   "metadata": {},
   "outputs": [
    {
     "data": {
      "text/plain": [
       "{'믿음', '사랑', '증오'}"
      ]
     },
     "execution_count": 44,
     "metadata": {},
     "output_type": "execute_result"
    }
   ],
   "source": [
    "green = {'사랑', '믿음', '증오', '사랑'}\n",
    "green"
   ]
  }
 ],
 "metadata": {
  "kernelspec": {
   "display_name": "Python 3 (ipykernel)",
   "language": "python",
   "name": "python3"
  },
  "language_info": {
   "codemirror_mode": {
    "name": "ipython",
    "version": 3
   },
   "file_extension": ".py",
   "mimetype": "text/x-python",
   "name": "python",
   "nbconvert_exporter": "python",
   "pygments_lexer": "ipython3",
   "version": "3.9.7"
  }
 },
 "nbformat": 4,
 "nbformat_minor": 5
}
