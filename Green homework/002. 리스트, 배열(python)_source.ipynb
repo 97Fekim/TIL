{
 "cells": [
  {
   "cell_type": "code",
   "execution_count": 30,
   "id": "151635a1",
   "metadata": {},
   "outputs": [
    {
     "data": {
      "text/plain": [
       "[3, 4, 6, 8, 9, 11]"
      ]
     },
     "execution_count": 30,
     "metadata": {},
     "output_type": "execute_result"
    }
   ],
   "source": [
    "# 문제1\n",
    "red = [3,4,6,8,9,11]\n",
    "red"
   ]
  },
  {
   "cell_type": "code",
   "execution_count": 31,
   "id": "05e316d2",
   "metadata": {},
   "outputs": [
    {
     "name": "stdout",
     "output_type": "stream",
     "text": [
      "홀수의 총합 :  23\n",
      "짝수의 총합 :  18\n"
     ]
    }
   ],
   "source": [
    "# 문제2\n",
    "red = [3,4,6,8,9,11]\n",
    "sumOdd = 0\n",
    "sumEven = 0\n",
    "for i in red:\n",
    "    if i%2==0:\n",
    "        sumEven = sumEven + i\n",
    "    else:\n",
    "        sumOdd = sumOdd + i\n",
    "print(\"홀수의 총합 : \", sumOdd)\n",
    "print(\"짝수의 총합 : \", sumEven)"
   ]
  },
  {
   "cell_type": "code",
   "execution_count": 32,
   "id": "0a5d1db6",
   "metadata": {},
   "outputs": [
    {
     "name": "stdout",
     "output_type": "stream",
     "text": [
      "홀수의 갯수 :  3\n",
      "짝수의 갯수 :  3\n"
     ]
    }
   ],
   "source": [
    "# 문제3\n",
    "red = [3,4,6,8,9,11]\n",
    "cntOdd = 0\n",
    "cntEven = 0\n",
    "for i in red:\n",
    "    if i%2==0:\n",
    "        cntEven = cntEven + 1\n",
    "    else:\n",
    "        cntOdd = cntOdd + 1\n",
    "print(\"홀수의 갯수 : \", cntOdd)\n",
    "print(\"짝수의 갯수 : \", cntEven)"
   ]
  },
  {
   "cell_type": "code",
   "execution_count": 33,
   "id": "f02f5d6e",
   "metadata": {},
   "outputs": [
    {
     "name": "stdout",
     "output_type": "stream",
     "text": [
      "3의배수 갯수 :  3\n",
      "3의배수 * 3 의 총합 :  54\n"
     ]
    }
   ],
   "source": [
    "# 문제4\n",
    "red = [3,4,6,8,9,11]\n",
    "cnt3th = 0\n",
    "sum3th = 0\n",
    "for i in red:\n",
    "    if i%3==0:\n",
    "        sum3th = sum3th + 3*i\n",
    "        cnt3th = cnt3th + 1\n",
    "        \n",
    "print(\"3의배수 갯수 : \", cnt3th)\n",
    "print(\"3의배수 * 3 의 총합 : \", sum3th)"
   ]
  },
  {
   "cell_type": "code",
   "execution_count": 34,
   "id": "472fa5ac",
   "metadata": {},
   "outputs": [
    {
     "name": "stdout",
     "output_type": "stream",
     "text": [
      "결합문자열 : 홍길동바보그린컴퓨터미금역입구\n"
     ]
    }
   ],
   "source": [
    "# 문제5\n",
    "strArray = [\"홍길동\",\"바보\",\"그린컴퓨터\",\"미금역입구\"]\n",
    "strSum = \"결합문자열 : \"\n",
    "for i in strArray:\n",
    "    strSum = strSum + i\n",
    "    \n",
    "print(strSum)"
   ]
  },
  {
   "cell_type": "code",
   "execution_count": 35,
   "id": "bbb4c9fa",
   "metadata": {},
   "outputs": [
    {
     "name": "stdout",
     "output_type": "stream",
     "text": [
      "짝수 문자열 :  홀수 : 홍길동그린컴퓨터미금역입구\n",
      "홀수 문자열 :  짝수 : 바보\n"
     ]
    }
   ],
   "source": [
    "# 문제 6\n",
    "strArray = [\"홍길동\",\"바보\",\"그린컴퓨터\",\"미금역입구\"]\n",
    "strOdd = \"홀수 : \"\n",
    "strEven = \"짝수 : \"\n",
    "\n",
    "for i in strArray:\n",
    "    if len(i)%2 == 0:\n",
    "        strEven = strEven + i\n",
    "    else:\n",
    "        strOdd = strOdd + i\n",
    "        \n",
    "print(strEven)\n",
    "print(strOdd)"
   ]
  }
 ],
 "metadata": {
  "kernelspec": {
   "display_name": "Python 3 (ipykernel)",
   "language": "python",
   "name": "python3"
  },
  "language_info": {
   "codemirror_mode": {
    "name": "ipython",
    "version": 3
   },
   "file_extension": ".py",
   "mimetype": "text/x-python",
   "name": "python",
   "nbconvert_exporter": "python",
   "pygments_lexer": "ipython3",
   "version": "3.9.7"
  }
 },
 "nbformat": 4,
 "nbformat_minor": 5
}
